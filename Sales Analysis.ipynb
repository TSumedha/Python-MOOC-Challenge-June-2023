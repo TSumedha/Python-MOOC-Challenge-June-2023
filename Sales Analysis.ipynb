{
 "cells": [
  {
   "cell_type": "markdown",
   "id": "ef1cc733",
   "metadata": {},
   "source": [
    "## Introduction to Python For Data MOOC Challenge\n",
    "#### Sales Data Analysis with Pandas and Matplotlib\n",
    "#### Author: Sumedha"
   ]
  },
  {
   "cell_type": "markdown",
   "id": "be25d99c",
   "metadata": {},
   "source": [
    "### Table of contents:\n",
    "1. [Introduction](https://github.com/TSumedha/Python-MOOC-Challenge-June-2023)\n",
    "2. [Importing python modules, reading the csv, and preparing the data](https://github.com/TSumedha/Python-MOOC-Challenge-June-2023)\n",
    "3. [Clean Up Data](https://github.com/TSumedha/Python-MOOC-Challenge-June-2023)\n",
    "4. [Augment data with additional columns](https://github.com/TSumedha/Python-MOOC-Challenge-June-2023)\n",
    "5. [Analysis a Sales data by Month. What was the best month for sales? What was the highest and lowest sales amount?](https://github.com/TSumedha/Python-MOOC-Challenge-June-2023)\n",
    "6. [Analysis of sales data by City.](https://github.com/TSumedha/Python-MOOC-Challenge-June-2023)\n",
    "7. [Analysis of data by Product. What are the top 5 best selling Products?](https://github.com/TSumedha/Python-MOOC-Challenge-June-2023)\n",
    "8. [Writing the results of the analysis to a new csv file](https://github.com/TSumedha/Python-MOOC-Challenge-June-2023)"
   ]
  },
  {
   "cell_type": "markdown",
   "id": "afc6a732",
   "metadata": {},
   "source": [
    "#### 1. Introduction\n",
    "\n",
    " To write code in Python I used Pandas to read in a csv file containing sales data, carry out basic data analysis tasks and then write the results of the analysis to a new csv file.\n",
    "\n",
    " In my project I have used matplotlib.pyplot to display the results of the data analysis in bar,Line and bar charts."
   ]
  },
  {
   "cell_type": "markdown",
   "id": "b995f735",
   "metadata": {},
   "source": [
    "#### 2. Importing python modules, merging the data, reading the csv file and preparing the data\n",
    "In this section, firstly I imported pandas and matplotlib.pyplot modules for the data analysis. Next, I read and merged the 12 months of sales data into a single csv file using os module. Then read the updated dataframe using the .read_csv() method and  viewed the first 5 rows of the dataframe using .head() to see what the data looks like."
   ]
  },
  {
   "cell_type": "markdown",
   "id": "330af24d",
   "metadata": {},
   "source": [
    "#### Import Necessary Libraries\n"
   ]
  },
  {
   "cell_type": "code",
   "execution_count": 434,
   "id": "8075d8b7",
   "metadata": {},
   "outputs": [],
   "source": [
    "# Import pandas and matplotlib modules\n",
    "\n",
    "import pandas as pd\n",
    "import matplotlib.pyplot as plt\n",
    "import os"
   ]
  },
  {
   "cell_type": "markdown",
   "id": "46f6a00b",
   "metadata": {},
   "source": [
    "#### Merge the 12 months of sales data into a single csv file"
   ]
  },
  {
   "cell_type": "code",
   "execution_count": 436,
   "id": "41e35c7a",
   "metadata": {},
   "outputs": [],
   "source": [
    "# Use Pandas to read csv file to dataframe object\n",
    "\n",
    "df = pd.read_csv('.\\SaleData\\Pandas-Data-Science-Tasks-master\\SalesAnalysis\\Sales_Data\\Sales_April_2019.csv')\n",
    "files = [file for file in os.listdir('.\\SaleData\\Pandas-Data-Science-Tasks-master\\SalesAnalysis\\Sales_Data')]\n",
    "all_months_data = pd.DataFrame()\n",
    "for file in files:\n",
    "    df = pd.read_csv(\".\\SaleData\\Pandas-Data-Science-Tasks-master\\SalesAnalysis\\Sales_Data\\/\" + file)\n",
    "    all_months_data = pd.concat([all_months_data, df])\n",
    "                     \n",
    "all_months_data.to_csv(\"all_data.csv\", index = False)                 "
   ]
  },
  {
   "cell_type": "markdown",
   "id": "4ad6b398",
   "metadata": {},
   "source": [
    "#### Read in updated dataframe"
   ]
  },
  {
   "cell_type": "code",
   "execution_count": 437,
   "id": "1842cace",
   "metadata": {},
   "outputs": [
    {
     "data": {
      "text/html": [
       "<div>\n",
       "<style scoped>\n",
       "    .dataframe tbody tr th:only-of-type {\n",
       "        vertical-align: middle;\n",
       "    }\n",
       "\n",
       "    .dataframe tbody tr th {\n",
       "        vertical-align: top;\n",
       "    }\n",
       "\n",
       "    .dataframe thead th {\n",
       "        text-align: right;\n",
       "    }\n",
       "</style>\n",
       "<table border=\"1\" class=\"dataframe\">\n",
       "  <thead>\n",
       "    <tr style=\"text-align: right;\">\n",
       "      <th></th>\n",
       "      <th>Order ID</th>\n",
       "      <th>Product</th>\n",
       "      <th>Quantity Ordered</th>\n",
       "      <th>Price Each</th>\n",
       "      <th>Order Date</th>\n",
       "      <th>Purchase Address</th>\n",
       "    </tr>\n",
       "  </thead>\n",
       "  <tbody>\n",
       "    <tr>\n",
       "      <th>0</th>\n",
       "      <td>176558</td>\n",
       "      <td>USB-C Charging Cable</td>\n",
       "      <td>2</td>\n",
       "      <td>11.95</td>\n",
       "      <td>04/19/19 08:46</td>\n",
       "      <td>917 1st St, Dallas, TX 75001</td>\n",
       "    </tr>\n",
       "    <tr>\n",
       "      <th>1</th>\n",
       "      <td>NaN</td>\n",
       "      <td>NaN</td>\n",
       "      <td>NaN</td>\n",
       "      <td>NaN</td>\n",
       "      <td>NaN</td>\n",
       "      <td>NaN</td>\n",
       "    </tr>\n",
       "    <tr>\n",
       "      <th>2</th>\n",
       "      <td>176559</td>\n",
       "      <td>Bose SoundSport Headphones</td>\n",
       "      <td>1</td>\n",
       "      <td>99.99</td>\n",
       "      <td>04/07/19 22:30</td>\n",
       "      <td>682 Chestnut St, Boston, MA 02215</td>\n",
       "    </tr>\n",
       "    <tr>\n",
       "      <th>3</th>\n",
       "      <td>176560</td>\n",
       "      <td>Google Phone</td>\n",
       "      <td>1</td>\n",
       "      <td>600</td>\n",
       "      <td>04/12/19 14:38</td>\n",
       "      <td>669 Spruce St, Los Angeles, CA 90001</td>\n",
       "    </tr>\n",
       "    <tr>\n",
       "      <th>4</th>\n",
       "      <td>176560</td>\n",
       "      <td>Wired Headphones</td>\n",
       "      <td>1</td>\n",
       "      <td>11.99</td>\n",
       "      <td>04/12/19 14:38</td>\n",
       "      <td>669 Spruce St, Los Angeles, CA 90001</td>\n",
       "    </tr>\n",
       "  </tbody>\n",
       "</table>\n",
       "</div>"
      ],
      "text/plain": [
       "  Order ID                     Product Quantity Ordered Price Each  \\\n",
       "0   176558        USB-C Charging Cable                2      11.95   \n",
       "1      NaN                         NaN              NaN        NaN   \n",
       "2   176559  Bose SoundSport Headphones                1      99.99   \n",
       "3   176560                Google Phone                1        600   \n",
       "4   176560            Wired Headphones                1      11.99   \n",
       "\n",
       "       Order Date                      Purchase Address  \n",
       "0  04/19/19 08:46          917 1st St, Dallas, TX 75001  \n",
       "1             NaN                                   NaN  \n",
       "2  04/07/19 22:30     682 Chestnut St, Boston, MA 02215  \n",
       "3  04/12/19 14:38  669 Spruce St, Los Angeles, CA 90001  \n",
       "4  04/12/19 14:38  669 Spruce St, Los Angeles, CA 90001  "
      ]
     },
     "execution_count": 437,
     "metadata": {},
     "output_type": "execute_result"
    }
   ],
   "source": [
    "# Use pandas to read updated csv file\n",
    "\n",
    "all_data = pd.read_csv(\"all_data.csv\")\n",
    "all_data.head()"
   ]
  },
  {
   "cell_type": "markdown",
   "id": "fd5d7f90",
   "metadata": {},
   "source": [
    "#### 3. Clean up Data! \n",
    "Here I dropped rows with NaN values and find rows with Or value and delete it."
   ]
  },
  {
   "cell_type": "markdown",
   "id": "56812237",
   "metadata": {},
   "source": [
    "#### Drop rows of NaN"
   ]
  },
  {
   "cell_type": "code",
   "execution_count": 438,
   "id": "466f2286",
   "metadata": {},
   "outputs": [],
   "source": [
    "nan_df = all_data[all_data.isna().any(axis=1)]\n",
    "all_data = all_data.dropna(how = 'all')"
   ]
  },
  {
   "cell_type": "markdown",
   "id": "e4224a37",
   "metadata": {},
   "source": [
    "#### Find rows with Or value and delete it"
   ]
  },
  {
   "cell_type": "code",
   "execution_count": 439,
   "id": "81543f53",
   "metadata": {},
   "outputs": [],
   "source": [
    "all_data = all_data[all_data['Order Date'].str[0:2]!= 'Or']"
   ]
  },
  {
   "cell_type": "code",
   "execution_count": 440,
   "id": "20c8d979",
   "metadata": {},
   "outputs": [
    {
     "data": {
      "text/plain": [
       "Order ID            object\n",
       "Product             object\n",
       "Quantity Ordered    object\n",
       "Price Each          object\n",
       "Order Date          object\n",
       "Purchase Address    object\n",
       "dtype: object"
      ]
     },
     "execution_count": 440,
     "metadata": {},
     "output_type": "execute_result"
    }
   ],
   "source": [
    "all_data.dtypes"
   ]
  },
  {
   "cell_type": "markdown",
   "id": "cd5aaaea",
   "metadata": {},
   "source": [
    "#### 4. Convert columns to correct datatypes and Augment data with additional columns\n",
    " I Converted Order Date column to DateTime Type and also converted the Quantity ordered and price columns to correct datatype (Numeric data type using .to_numeric() method. \n",
    " \n",
    "Added month column from Order Date column and Calculating the total sale price for each product and displaying the dataframe using .head() method.\n",
    " "
   ]
  },
  {
   "cell_type": "markdown",
   "id": "c5b0169d",
   "metadata": {},
   "source": [
    "#### Convert columns to correct types"
   ]
  },
  {
   "cell_type": "code",
   "execution_count": 443,
   "id": "90eec5c1",
   "metadata": {},
   "outputs": [
    {
     "data": {
      "text/html": [
       "<div>\n",
       "<style scoped>\n",
       "    .dataframe tbody tr th:only-of-type {\n",
       "        vertical-align: middle;\n",
       "    }\n",
       "\n",
       "    .dataframe tbody tr th {\n",
       "        vertical-align: top;\n",
       "    }\n",
       "\n",
       "    .dataframe thead th {\n",
       "        text-align: right;\n",
       "    }\n",
       "</style>\n",
       "<table border=\"1\" class=\"dataframe\">\n",
       "  <thead>\n",
       "    <tr style=\"text-align: right;\">\n",
       "      <th></th>\n",
       "      <th>Order ID</th>\n",
       "      <th>Product</th>\n",
       "      <th>Quantity Ordered</th>\n",
       "      <th>Price Each</th>\n",
       "      <th>Sales Price</th>\n",
       "      <th>Order Date</th>\n",
       "      <th>Purchase Address</th>\n",
       "      <th>Month</th>\n",
       "    </tr>\n",
       "  </thead>\n",
       "  <tbody>\n",
       "    <tr>\n",
       "      <th>0</th>\n",
       "      <td>176558</td>\n",
       "      <td>USB-C Charging Cable</td>\n",
       "      <td>2</td>\n",
       "      <td>11.95</td>\n",
       "      <td>23.90</td>\n",
       "      <td>2019-04-19 08:46:00</td>\n",
       "      <td>917 1st St, Dallas, TX 75001</td>\n",
       "      <td>4</td>\n",
       "    </tr>\n",
       "    <tr>\n",
       "      <th>2</th>\n",
       "      <td>176559</td>\n",
       "      <td>Bose SoundSport Headphones</td>\n",
       "      <td>1</td>\n",
       "      <td>99.99</td>\n",
       "      <td>99.99</td>\n",
       "      <td>2019-04-07 22:30:00</td>\n",
       "      <td>682 Chestnut St, Boston, MA 02215</td>\n",
       "      <td>4</td>\n",
       "    </tr>\n",
       "    <tr>\n",
       "      <th>3</th>\n",
       "      <td>176560</td>\n",
       "      <td>Google Phone</td>\n",
       "      <td>1</td>\n",
       "      <td>600.00</td>\n",
       "      <td>600.00</td>\n",
       "      <td>2019-04-12 14:38:00</td>\n",
       "      <td>669 Spruce St, Los Angeles, CA 90001</td>\n",
       "      <td>4</td>\n",
       "    </tr>\n",
       "    <tr>\n",
       "      <th>4</th>\n",
       "      <td>176560</td>\n",
       "      <td>Wired Headphones</td>\n",
       "      <td>1</td>\n",
       "      <td>11.99</td>\n",
       "      <td>11.99</td>\n",
       "      <td>2019-04-12 14:38:00</td>\n",
       "      <td>669 Spruce St, Los Angeles, CA 90001</td>\n",
       "      <td>4</td>\n",
       "    </tr>\n",
       "    <tr>\n",
       "      <th>5</th>\n",
       "      <td>176561</td>\n",
       "      <td>Wired Headphones</td>\n",
       "      <td>1</td>\n",
       "      <td>11.99</td>\n",
       "      <td>11.99</td>\n",
       "      <td>2019-04-30 09:27:00</td>\n",
       "      <td>333 8th St, Los Angeles, CA 90001</td>\n",
       "      <td>4</td>\n",
       "    </tr>\n",
       "  </tbody>\n",
       "</table>\n",
       "</div>"
      ],
      "text/plain": [
       "  Order ID                     Product  Quantity Ordered  Price Each  \\\n",
       "0   176558        USB-C Charging Cable                 2       11.95   \n",
       "2   176559  Bose SoundSport Headphones                 1       99.99   \n",
       "3   176560                Google Phone                 1      600.00   \n",
       "4   176560            Wired Headphones                 1       11.99   \n",
       "5   176561            Wired Headphones                 1       11.99   \n",
       "\n",
       "   Sales Price          Order Date                      Purchase Address  \\\n",
       "0        23.90 2019-04-19 08:46:00          917 1st St, Dallas, TX 75001   \n",
       "2        99.99 2019-04-07 22:30:00     682 Chestnut St, Boston, MA 02215   \n",
       "3       600.00 2019-04-12 14:38:00  669 Spruce St, Los Angeles, CA 90001   \n",
       "4        11.99 2019-04-12 14:38:00  669 Spruce St, Los Angeles, CA 90001   \n",
       "5        11.99 2019-04-30 09:27:00     333 8th St, Los Angeles, CA 90001   \n",
       "\n",
       "   Month  \n",
       "0      4  \n",
       "2      4  \n",
       "3      4  \n",
       "4      4  \n",
       "5      4  "
      ]
     },
     "execution_count": 443,
     "metadata": {},
     "output_type": "execute_result"
    }
   ],
   "source": [
    "# convert columns to numeric type and datetime type\n",
    "all_data['Quantity Ordered'] = pd.to_numeric(all_data['Quantity Ordered'])\n",
    "all_data['Price Each'] = pd.to_numeric(all_data['Price Each'])\n",
    "all_data['Order Date'] = pd.to_datetime(all_data['Order Date'])\n",
    "\n",
    "# Add a Month column\n",
    "all_data['Month'] = all_data['Order Date'].dt.month\n",
    "all_data.head()"
   ]
  },
  {
   "cell_type": "markdown",
   "id": "c25851e1",
   "metadata": {},
   "source": [
    "#### Add a Sales Price column"
   ]
  },
  {
   "cell_type": "code",
   "execution_count": 442,
   "id": "1bc71843",
   "metadata": {},
   "outputs": [
    {
     "data": {
      "text/html": [
       "<div>\n",
       "<style scoped>\n",
       "    .dataframe tbody tr th:only-of-type {\n",
       "        vertical-align: middle;\n",
       "    }\n",
       "\n",
       "    .dataframe tbody tr th {\n",
       "        vertical-align: top;\n",
       "    }\n",
       "\n",
       "    .dataframe thead th {\n",
       "        text-align: right;\n",
       "    }\n",
       "</style>\n",
       "<table border=\"1\" class=\"dataframe\">\n",
       "  <thead>\n",
       "    <tr style=\"text-align: right;\">\n",
       "      <th></th>\n",
       "      <th>Order ID</th>\n",
       "      <th>Product</th>\n",
       "      <th>Quantity Ordered</th>\n",
       "      <th>Price Each</th>\n",
       "      <th>Sales Price</th>\n",
       "      <th>Order Date</th>\n",
       "      <th>Purchase Address</th>\n",
       "      <th>Month</th>\n",
       "    </tr>\n",
       "  </thead>\n",
       "  <tbody>\n",
       "    <tr>\n",
       "      <th>0</th>\n",
       "      <td>176558</td>\n",
       "      <td>USB-C Charging Cable</td>\n",
       "      <td>2</td>\n",
       "      <td>11.95</td>\n",
       "      <td>23.90</td>\n",
       "      <td>2019-04-19 08:46:00</td>\n",
       "      <td>917 1st St, Dallas, TX 75001</td>\n",
       "      <td>4</td>\n",
       "    </tr>\n",
       "    <tr>\n",
       "      <th>2</th>\n",
       "      <td>176559</td>\n",
       "      <td>Bose SoundSport Headphones</td>\n",
       "      <td>1</td>\n",
       "      <td>99.99</td>\n",
       "      <td>99.99</td>\n",
       "      <td>2019-04-07 22:30:00</td>\n",
       "      <td>682 Chestnut St, Boston, MA 02215</td>\n",
       "      <td>4</td>\n",
       "    </tr>\n",
       "    <tr>\n",
       "      <th>3</th>\n",
       "      <td>176560</td>\n",
       "      <td>Google Phone</td>\n",
       "      <td>1</td>\n",
       "      <td>600.00</td>\n",
       "      <td>600.00</td>\n",
       "      <td>2019-04-12 14:38:00</td>\n",
       "      <td>669 Spruce St, Los Angeles, CA 90001</td>\n",
       "      <td>4</td>\n",
       "    </tr>\n",
       "    <tr>\n",
       "      <th>4</th>\n",
       "      <td>176560</td>\n",
       "      <td>Wired Headphones</td>\n",
       "      <td>1</td>\n",
       "      <td>11.99</td>\n",
       "      <td>11.99</td>\n",
       "      <td>2019-04-12 14:38:00</td>\n",
       "      <td>669 Spruce St, Los Angeles, CA 90001</td>\n",
       "      <td>4</td>\n",
       "    </tr>\n",
       "    <tr>\n",
       "      <th>5</th>\n",
       "      <td>176561</td>\n",
       "      <td>Wired Headphones</td>\n",
       "      <td>1</td>\n",
       "      <td>11.99</td>\n",
       "      <td>11.99</td>\n",
       "      <td>2019-04-30 09:27:00</td>\n",
       "      <td>333 8th St, Los Angeles, CA 90001</td>\n",
       "      <td>4</td>\n",
       "    </tr>\n",
       "  </tbody>\n",
       "</table>\n",
       "</div>"
      ],
      "text/plain": [
       "  Order ID                     Product  Quantity Ordered  Price Each  \\\n",
       "0   176558        USB-C Charging Cable                 2       11.95   \n",
       "2   176559  Bose SoundSport Headphones                 1       99.99   \n",
       "3   176560                Google Phone                 1      600.00   \n",
       "4   176560            Wired Headphones                 1       11.99   \n",
       "5   176561            Wired Headphones                 1       11.99   \n",
       "\n",
       "   Sales Price          Order Date                      Purchase Address  \\\n",
       "0        23.90 2019-04-19 08:46:00          917 1st St, Dallas, TX 75001   \n",
       "2        99.99 2019-04-07 22:30:00     682 Chestnut St, Boston, MA 02215   \n",
       "3       600.00 2019-04-12 14:38:00  669 Spruce St, Los Angeles, CA 90001   \n",
       "4        11.99 2019-04-12 14:38:00  669 Spruce St, Los Angeles, CA 90001   \n",
       "5        11.99 2019-04-30 09:27:00     333 8th St, Los Angeles, CA 90001   \n",
       "\n",
       "   Month  \n",
       "0      4  \n",
       "2      4  \n",
       "3      4  \n",
       "4      4  \n",
       "5      4  "
      ]
     },
     "execution_count": 442,
     "metadata": {},
     "output_type": "execute_result"
    }
   ],
   "source": [
    "# Added the Sales price column by multipling Quantity Ordered and Price Each columns.\n",
    "\n",
    "all_data.insert(4,\"Sales Price\", all_data['Quantity Ordered'] * all_data['Price Each'])\n",
    "all_data.head()"
   ]
  },
  {
   "cell_type": "code",
   "execution_count": 450,
   "id": "c6db199e",
   "metadata": {},
   "outputs": [],
   "source": [
    "# After clean up write dataframe to new csv file\n",
    "all_data.to_csv(\"sales_data.csv\", index = False)"
   ]
  },
  {
   "cell_type": "code",
   "execution_count": 451,
   "id": "a8c08f93",
   "metadata": {},
   "outputs": [
    {
     "data": {
      "text/html": [
       "<div>\n",
       "<style scoped>\n",
       "    .dataframe tbody tr th:only-of-type {\n",
       "        vertical-align: middle;\n",
       "    }\n",
       "\n",
       "    .dataframe tbody tr th {\n",
       "        vertical-align: top;\n",
       "    }\n",
       "\n",
       "    .dataframe thead th {\n",
       "        text-align: right;\n",
       "    }\n",
       "</style>\n",
       "<table border=\"1\" class=\"dataframe\">\n",
       "  <thead>\n",
       "    <tr style=\"text-align: right;\">\n",
       "      <th></th>\n",
       "      <th>Order ID</th>\n",
       "      <th>Product</th>\n",
       "      <th>Quantity Ordered</th>\n",
       "      <th>Price Each</th>\n",
       "      <th>Sales Price</th>\n",
       "      <th>Order Date</th>\n",
       "      <th>Purchase Address</th>\n",
       "      <th>Month</th>\n",
       "    </tr>\n",
       "  </thead>\n",
       "  <tbody>\n",
       "    <tr>\n",
       "      <th>0</th>\n",
       "      <td>176558</td>\n",
       "      <td>USB-C Charging Cable</td>\n",
       "      <td>2</td>\n",
       "      <td>11.95</td>\n",
       "      <td>23.90</td>\n",
       "      <td>2019-04-19 08:46:00</td>\n",
       "      <td>917 1st St, Dallas, TX 75001</td>\n",
       "      <td>4</td>\n",
       "    </tr>\n",
       "    <tr>\n",
       "      <th>1</th>\n",
       "      <td>176559</td>\n",
       "      <td>Bose SoundSport Headphones</td>\n",
       "      <td>1</td>\n",
       "      <td>99.99</td>\n",
       "      <td>99.99</td>\n",
       "      <td>2019-04-07 22:30:00</td>\n",
       "      <td>682 Chestnut St, Boston, MA 02215</td>\n",
       "      <td>4</td>\n",
       "    </tr>\n",
       "    <tr>\n",
       "      <th>2</th>\n",
       "      <td>176560</td>\n",
       "      <td>Google Phone</td>\n",
       "      <td>1</td>\n",
       "      <td>600.00</td>\n",
       "      <td>600.00</td>\n",
       "      <td>2019-04-12 14:38:00</td>\n",
       "      <td>669 Spruce St, Los Angeles, CA 90001</td>\n",
       "      <td>4</td>\n",
       "    </tr>\n",
       "    <tr>\n",
       "      <th>3</th>\n",
       "      <td>176560</td>\n",
       "      <td>Wired Headphones</td>\n",
       "      <td>1</td>\n",
       "      <td>11.99</td>\n",
       "      <td>11.99</td>\n",
       "      <td>2019-04-12 14:38:00</td>\n",
       "      <td>669 Spruce St, Los Angeles, CA 90001</td>\n",
       "      <td>4</td>\n",
       "    </tr>\n",
       "    <tr>\n",
       "      <th>4</th>\n",
       "      <td>176561</td>\n",
       "      <td>Wired Headphones</td>\n",
       "      <td>1</td>\n",
       "      <td>11.99</td>\n",
       "      <td>11.99</td>\n",
       "      <td>2019-04-30 09:27:00</td>\n",
       "      <td>333 8th St, Los Angeles, CA 90001</td>\n",
       "      <td>4</td>\n",
       "    </tr>\n",
       "  </tbody>\n",
       "</table>\n",
       "</div>"
      ],
      "text/plain": [
       "   Order ID                     Product  Quantity Ordered  Price Each  \\\n",
       "0    176558        USB-C Charging Cable                 2       11.95   \n",
       "1    176559  Bose SoundSport Headphones                 1       99.99   \n",
       "2    176560                Google Phone                 1      600.00   \n",
       "3    176560            Wired Headphones                 1       11.99   \n",
       "4    176561            Wired Headphones                 1       11.99   \n",
       "\n",
       "   Sales Price           Order Date                      Purchase Address  \\\n",
       "0        23.90  2019-04-19 08:46:00          917 1st St, Dallas, TX 75001   \n",
       "1        99.99  2019-04-07 22:30:00     682 Chestnut St, Boston, MA 02215   \n",
       "2       600.00  2019-04-12 14:38:00  669 Spruce St, Los Angeles, CA 90001   \n",
       "3        11.99  2019-04-12 14:38:00  669 Spruce St, Los Angeles, CA 90001   \n",
       "4        11.99  2019-04-30 09:27:00     333 8th St, Los Angeles, CA 90001   \n",
       "\n",
       "   Month  \n",
       "0      4  \n",
       "1      4  \n",
       "2      4  \n",
       "3      4  \n",
       "4      4  "
      ]
     },
     "execution_count": 451,
     "metadata": {},
     "output_type": "execute_result"
    }
   ],
   "source": [
    "# Use Pandas to read csv file to dataframe object\n",
    "df = pd.read_csv(\"sales_data.csv\")\n",
    "df.head()"
   ]
  },
  {
   "cell_type": "markdown",
   "id": "1707bd15",
   "metadata": {},
   "source": [
    "#### 5.Analysis a Sales data by Month. What was the best month for sales? What was the highest and lowest sales amount ?\n",
    "\n",
    "In this section, the Pandas .groupby() method is used to group the data by month. A column 'Month' is added  and then the data grouped by month is displayed in a bar chart.\n",
    "\n",
    "The .max() and .min() methods are used to identify the month with the highest and lowest sales.\n",
    "\n",
    "I Plot the result.Plotting is a good way to visualize these results and we can see the trends month by month.I have created a bar chart (showing sales in USD $ for each month)\n",
    "\n",
    "The cumulative sales in USD $ for each month is calculated using the .cumsum() method and This is then used to create a line graph showing the cumulative sales by month."
   ]
  },
  {
   "cell_type": "code",
   "execution_count": 452,
   "id": "268859b6",
   "metadata": {},
   "outputs": [
    {
     "name": "stdout",
     "output_type": "stream",
     "text": [
      "    Month  Sales Price\n",
      "0       1   1822256.73\n",
      "1       2   2202022.42\n",
      "2       3   2807100.38\n",
      "3       4   3390670.24\n",
      "4       5   3152606.75\n",
      "5       6   2577802.26\n",
      "6       7   2647775.76\n",
      "7       8   2244467.88\n",
      "8       9   2097560.13\n",
      "9      10   3736726.88\n",
      "10     11   3199603.20\n",
      "11     12   4613443.34\n"
     ]
    }
   ],
   "source": [
    "# Use groupby to create a new dataframe object containing sales grouped by month\n",
    "\n",
    "#sales_by_month = df.groupby('Month').sum(True,0)\n",
    "sales_by_month = df.groupby('Month', as_index = False )['Sales Price'].sum()\n",
    "print(sales_by_month)\n",
    "\n",
    "# Identify the highest and lowest total sales\n",
    "\n",
    "\n",
    "highest_total_sales_amount = sales_by_month['Sales Price'].max()\n",
    "lowest_total_sales_amount = sales_by_month['Sales Price'].min()"
   ]
  },
  {
   "cell_type": "code",
   "execution_count": 453,
   "id": "2bc19347",
   "metadata": {},
   "outputs": [
    {
     "data": {
      "image/png": "[encoded data removed]",
      "text/plain": [
       "<Figure size 640x480 with 1 Axes>"
      ]
     },
     "metadata": {},
     "output_type": "display_data"
    },
    {
     "name": "stdout",
     "output_type": "stream",
     "text": [
      "Highest Total Sales Amount: $4613443.34\n",
      "Lowest Total Sales Amount: $1822256.73\n"
     ]
    }
   ],
   "source": [
    "months = range(1,13)\n",
    "\n",
    "plt.bar(months,sales_by_month['Sales Price'])\n",
    "plt.xticks(months)\n",
    "plt.title('Sales by Month')\n",
    "plt.ylabel('Sales in USD ($)')\n",
    "plt.xlabel('Month Number')\n",
    "plt.show()\n",
    "print(f\"Highest Total Sales Amount: ${highest_total_sales_amount}\")\n",
    "print(f\"Lowest Total Sales Amount: ${lowest_total_sales_amount}\")"
   ]
  },
  {
   "cell_type": "code",
   "execution_count": 454,
   "id": "866235ba",
   "metadata": {},
   "outputs": [
    {
     "data": {
      "image/png": "[encoded data removed]",
      "text/plain": [
       "<Figure size 640x480 with 1 Axes>"
      ]
     },
     "metadata": {},
     "output_type": "display_data"
    }
   ],
   "source": [
    "# Calculate cumulative monthly sales and display line chart of Cumulative Sales by Month\n",
    "\n",
    "cumulative_sales = sales_by_month['Sales Price'].cumsum()\n",
    "plt.xticks(months)\n",
    "plt.title('Sales_by_Month (Cumulative)')\n",
    "plt.ylabel('Sales Price in USD ($)')\n",
    "plt.xlabel('Month Number')\n",
    "plt.plot(months, sales_by_month['Sales Price'].cumsum(), c='red')\n",
    "plt.show()"
   ]
  },
  {
   "cell_type": "markdown",
   "id": "7fe2a311",
   "metadata": {},
   "source": [
    "#### 6. Analysis of sales data by City\n",
    "In this section,I have added a City column. We do have Purchase address column so I extracted City column from Purchase address column using .apply() method.\n",
    "\n",
    "I define a function get_city() it takes address as an argument and returns City Name. The Pandas .groupby() method is used to group the data by City and then the data grouped by city is displayed in a bar chart.\n",
    "\n",
    "I have created a bar chart (showing Sales by City)."
   ]
  },
  {
   "cell_type": "code",
   "execution_count": 455,
   "id": "115b4629",
   "metadata": {},
   "outputs": [
    {
     "data": {
      "text/html": [
       "<div>\n",
       "<style scoped>\n",
       "    .dataframe tbody tr th:only-of-type {\n",
       "        vertical-align: middle;\n",
       "    }\n",
       "\n",
       "    .dataframe tbody tr th {\n",
       "        vertical-align: top;\n",
       "    }\n",
       "\n",
       "    .dataframe thead th {\n",
       "        text-align: right;\n",
       "    }\n",
       "</style>\n",
       "<table border=\"1\" class=\"dataframe\">\n",
       "  <thead>\n",
       "    <tr style=\"text-align: right;\">\n",
       "      <th></th>\n",
       "      <th>Order ID</th>\n",
       "      <th>Product</th>\n",
       "      <th>Quantity Ordered</th>\n",
       "      <th>Price Each</th>\n",
       "      <th>Sales Price</th>\n",
       "      <th>Order Date</th>\n",
       "      <th>Purchase Address</th>\n",
       "      <th>Month</th>\n",
       "    </tr>\n",
       "  </thead>\n",
       "  <tbody>\n",
       "    <tr>\n",
       "      <th>0</th>\n",
       "      <td>176558</td>\n",
       "      <td>USB-C Charging Cable</td>\n",
       "      <td>2</td>\n",
       "      <td>11.95</td>\n",
       "      <td>23.90</td>\n",
       "      <td>2019-04-19 08:46:00</td>\n",
       "      <td>917 1st St, Dallas, TX 75001</td>\n",
       "      <td>4</td>\n",
       "    </tr>\n",
       "    <tr>\n",
       "      <th>1</th>\n",
       "      <td>176559</td>\n",
       "      <td>Bose SoundSport Headphones</td>\n",
       "      <td>1</td>\n",
       "      <td>99.99</td>\n",
       "      <td>99.99</td>\n",
       "      <td>2019-04-07 22:30:00</td>\n",
       "      <td>682 Chestnut St, Boston, MA 02215</td>\n",
       "      <td>4</td>\n",
       "    </tr>\n",
       "    <tr>\n",
       "      <th>2</th>\n",
       "      <td>176560</td>\n",
       "      <td>Google Phone</td>\n",
       "      <td>1</td>\n",
       "      <td>600.00</td>\n",
       "      <td>600.00</td>\n",
       "      <td>2019-04-12 14:38:00</td>\n",
       "      <td>669 Spruce St, Los Angeles, CA 90001</td>\n",
       "      <td>4</td>\n",
       "    </tr>\n",
       "    <tr>\n",
       "      <th>3</th>\n",
       "      <td>176560</td>\n",
       "      <td>Wired Headphones</td>\n",
       "      <td>1</td>\n",
       "      <td>11.99</td>\n",
       "      <td>11.99</td>\n",
       "      <td>2019-04-12 14:38:00</td>\n",
       "      <td>669 Spruce St, Los Angeles, CA 90001</td>\n",
       "      <td>4</td>\n",
       "    </tr>\n",
       "    <tr>\n",
       "      <th>4</th>\n",
       "      <td>176561</td>\n",
       "      <td>Wired Headphones</td>\n",
       "      <td>1</td>\n",
       "      <td>11.99</td>\n",
       "      <td>11.99</td>\n",
       "      <td>2019-04-30 09:27:00</td>\n",
       "      <td>333 8th St, Los Angeles, CA 90001</td>\n",
       "      <td>4</td>\n",
       "    </tr>\n",
       "  </tbody>\n",
       "</table>\n",
       "</div>"
      ],
      "text/plain": [
       "   Order ID                     Product  Quantity Ordered  Price Each  \\\n",
       "0    176558        USB-C Charging Cable                 2       11.95   \n",
       "1    176559  Bose SoundSport Headphones                 1       99.99   \n",
       "2    176560                Google Phone                 1      600.00   \n",
       "3    176560            Wired Headphones                 1       11.99   \n",
       "4    176561            Wired Headphones                 1       11.99   \n",
       "\n",
       "   Sales Price           Order Date                      Purchase Address  \\\n",
       "0        23.90  2019-04-19 08:46:00          917 1st St, Dallas, TX 75001   \n",
       "1        99.99  2019-04-07 22:30:00     682 Chestnut St, Boston, MA 02215   \n",
       "2       600.00  2019-04-12 14:38:00  669 Spruce St, Los Angeles, CA 90001   \n",
       "3        11.99  2019-04-12 14:38:00  669 Spruce St, Los Angeles, CA 90001   \n",
       "4        11.99  2019-04-30 09:27:00     333 8th St, Los Angeles, CA 90001   \n",
       "\n",
       "   Month  \n",
       "0      4  \n",
       "1      4  \n",
       "2      4  \n",
       "3      4  \n",
       "4      4  "
      ]
     },
     "execution_count": 455,
     "metadata": {},
     "output_type": "execute_result"
    }
   ],
   "source": [
    "df.head()"
   ]
  },
  {
   "cell_type": "markdown",
   "id": "e649a53a",
   "metadata": {},
   "source": [
    "### Add a City column"
   ]
  },
  {
   "cell_type": "code",
   "execution_count": 456,
   "id": "71518ea4",
   "metadata": {},
   "outputs": [
    {
     "data": {
      "text/html": [
       "<div>\n",
       "<style scoped>\n",
       "    .dataframe tbody tr th:only-of-type {\n",
       "        vertical-align: middle;\n",
       "    }\n",
       "\n",
       "    .dataframe tbody tr th {\n",
       "        vertical-align: top;\n",
       "    }\n",
       "\n",
       "    .dataframe thead th {\n",
       "        text-align: right;\n",
       "    }\n",
       "</style>\n",
       "<table border=\"1\" class=\"dataframe\">\n",
       "  <thead>\n",
       "    <tr style=\"text-align: right;\">\n",
       "      <th></th>\n",
       "      <th>Order ID</th>\n",
       "      <th>Product</th>\n",
       "      <th>Quantity Ordered</th>\n",
       "      <th>Price Each</th>\n",
       "      <th>Sales Price</th>\n",
       "      <th>Order Date</th>\n",
       "      <th>Purchase Address</th>\n",
       "      <th>Month</th>\n",
       "      <th>City</th>\n",
       "    </tr>\n",
       "  </thead>\n",
       "  <tbody>\n",
       "    <tr>\n",
       "      <th>0</th>\n",
       "      <td>176558</td>\n",
       "      <td>USB-C Charging Cable</td>\n",
       "      <td>2</td>\n",
       "      <td>11.95</td>\n",
       "      <td>23.90</td>\n",
       "      <td>2019-04-19 08:46:00</td>\n",
       "      <td>917 1st St, Dallas, TX 75001</td>\n",
       "      <td>4</td>\n",
       "      <td>Dallas</td>\n",
       "    </tr>\n",
       "    <tr>\n",
       "      <th>1</th>\n",
       "      <td>176559</td>\n",
       "      <td>Bose SoundSport Headphones</td>\n",
       "      <td>1</td>\n",
       "      <td>99.99</td>\n",
       "      <td>99.99</td>\n",
       "      <td>2019-04-07 22:30:00</td>\n",
       "      <td>682 Chestnut St, Boston, MA 02215</td>\n",
       "      <td>4</td>\n",
       "      <td>Boston</td>\n",
       "    </tr>\n",
       "    <tr>\n",
       "      <th>2</th>\n",
       "      <td>176560</td>\n",
       "      <td>Google Phone</td>\n",
       "      <td>1</td>\n",
       "      <td>600.00</td>\n",
       "      <td>600.00</td>\n",
       "      <td>2019-04-12 14:38:00</td>\n",
       "      <td>669 Spruce St, Los Angeles, CA 90001</td>\n",
       "      <td>4</td>\n",
       "      <td>Los Angeles</td>\n",
       "    </tr>\n",
       "    <tr>\n",
       "      <th>3</th>\n",
       "      <td>176560</td>\n",
       "      <td>Wired Headphones</td>\n",
       "      <td>1</td>\n",
       "      <td>11.99</td>\n",
       "      <td>11.99</td>\n",
       "      <td>2019-04-12 14:38:00</td>\n",
       "      <td>669 Spruce St, Los Angeles, CA 90001</td>\n",
       "      <td>4</td>\n",
       "      <td>Los Angeles</td>\n",
       "    </tr>\n",
       "    <tr>\n",
       "      <th>4</th>\n",
       "      <td>176561</td>\n",
       "      <td>Wired Headphones</td>\n",
       "      <td>1</td>\n",
       "      <td>11.99</td>\n",
       "      <td>11.99</td>\n",
       "      <td>2019-04-30 09:27:00</td>\n",
       "      <td>333 8th St, Los Angeles, CA 90001</td>\n",
       "      <td>4</td>\n",
       "      <td>Los Angeles</td>\n",
       "    </tr>\n",
       "  </tbody>\n",
       "</table>\n",
       "</div>"
      ],
      "text/plain": [
       "   Order ID                     Product  Quantity Ordered  Price Each  \\\n",
       "0    176558        USB-C Charging Cable                 2       11.95   \n",
       "1    176559  Bose SoundSport Headphones                 1       99.99   \n",
       "2    176560                Google Phone                 1      600.00   \n",
       "3    176560            Wired Headphones                 1       11.99   \n",
       "4    176561            Wired Headphones                 1       11.99   \n",
       "\n",
       "   Sales Price           Order Date                      Purchase Address  \\\n",
       "0        23.90  2019-04-19 08:46:00          917 1st St, Dallas, TX 75001   \n",
       "1        99.99  2019-04-07 22:30:00     682 Chestnut St, Boston, MA 02215   \n",
       "2       600.00  2019-04-12 14:38:00  669 Spruce St, Los Angeles, CA 90001   \n",
       "3        11.99  2019-04-12 14:38:00  669 Spruce St, Los Angeles, CA 90001   \n",
       "4        11.99  2019-04-30 09:27:00     333 8th St, Los Angeles, CA 90001   \n",
       "\n",
       "   Month          City  \n",
       "0      4        Dallas  \n",
       "1      4        Boston  \n",
       "2      4   Los Angeles  \n",
       "3      4   Los Angeles  \n",
       "4      4   Los Angeles  "
      ]
     },
     "execution_count": 456,
     "metadata": {},
     "output_type": "execute_result"
    }
   ],
   "source": [
    "# We do have Purchase address column so I extracted City column from Purchase address column using .apply() method.\n",
    "# For every x value(cell Content) we want it to split it by comma and then grab the first index\n",
    "\n",
    "def get_city(address):\n",
    "    return address.split(',')[1]\n",
    "\n",
    "# Whenever we want to do something with the cell contents we can use lambda x notation\n",
    "\n",
    "df['City'] = df['Purchase Address'].apply(lambda x : get_city(x))\n",
    "df.head()"
   ]
  },
  {
   "cell_type": "code",
   "execution_count": 457,
   "id": "09bb34ea",
   "metadata": {},
   "outputs": [
    {
     "data": {
      "text/html": [
       "<div>\n",
       "<style scoped>\n",
       "    .dataframe tbody tr th:only-of-type {\n",
       "        vertical-align: middle;\n",
       "    }\n",
       "\n",
       "    .dataframe tbody tr th {\n",
       "        vertical-align: top;\n",
       "    }\n",
       "\n",
       "    .dataframe thead th {\n",
       "        text-align: right;\n",
       "    }\n",
       "</style>\n",
       "<table border=\"1\" class=\"dataframe\">\n",
       "  <thead>\n",
       "    <tr style=\"text-align: right;\">\n",
       "      <th></th>\n",
       "      <th>City</th>\n",
       "      <th>Sales Price</th>\n",
       "    </tr>\n",
       "  </thead>\n",
       "  <tbody>\n",
       "    <tr>\n",
       "      <th>7</th>\n",
       "      <td>San Francisco</td>\n",
       "      <td>8262203.91</td>\n",
       "    </tr>\n",
       "    <tr>\n",
       "      <th>4</th>\n",
       "      <td>Los Angeles</td>\n",
       "      <td>5452570.80</td>\n",
       "    </tr>\n",
       "    <tr>\n",
       "      <th>5</th>\n",
       "      <td>New York City</td>\n",
       "      <td>4664317.43</td>\n",
       "    </tr>\n",
       "    <tr>\n",
       "      <th>2</th>\n",
       "      <td>Boston</td>\n",
       "      <td>3661642.01</td>\n",
       "    </tr>\n",
       "    <tr>\n",
       "      <th>0</th>\n",
       "      <td>Atlanta</td>\n",
       "      <td>2795498.58</td>\n",
       "    </tr>\n",
       "  </tbody>\n",
       "</table>\n",
       "</div>"
      ],
      "text/plain": [
       "             City  Sales Price\n",
       "7   San Francisco   8262203.91\n",
       "4     Los Angeles   5452570.80\n",
       "5   New York City   4664317.43\n",
       "2          Boston   3661642.01\n",
       "0         Atlanta   2795498.58"
      ]
     },
     "execution_count": 457,
     "metadata": {},
     "output_type": "execute_result"
    }
   ],
   "source": [
    "# Sales by City\n",
    "\n",
    "df.groupby('City', as_index = False)['Sales Price'].sum().sort_values(by = 'Sales Price', ascending = False).head()"
   ]
  },
  {
   "cell_type": "code",
   "execution_count": 350,
   "id": "05cbb5a7",
   "metadata": {},
   "outputs": [
    {
     "data": {
      "image/png": "[encoded data removed]",
      "text/plain": [
       "<Figure size 640x480 with 1 Axes>"
      ]
     },
     "metadata": {},
     "output_type": "display_data"
    }
   ],
   "source": [
    "sales_by_city = df.groupby('City').sum(True,0)\n",
    "cities = [city for city, cn in df.groupby('City')]\n",
    "\n",
    "plt.bar(cities, sales_by_city['Sales Price'])\n",
    "plt.xticks(cities, rotation = 'vertical', size=8)\n",
    "plt.title('Sales by City')\n",
    "plt.ylabel('Sales in USD ($)')\n",
    "plt.xlabel('City Name')\n",
    "plt.show()"
   ]
  },
  {
   "cell_type": "markdown",
   "id": "a04884c3",
   "metadata": {},
   "source": [
    "### 7. Analysis of data by Product\n",
    " To identify the 10 best selling products I sorted the dataframe by Quantity Ordered in descending order using the Pandas .sort_values() method. The top ten best selling products are identified and these are then displayed in the result.\n",
    " \n",
    " I then use matplotlib.pyplot to create a pie chart (showing the % of Top 10 Products by Quantity Ordered)."
   ]
  },
  {
   "cell_type": "code",
   "execution_count": 351,
   "id": "626a0eba",
   "metadata": {},
   "outputs": [
    {
     "name": "stdout",
     "output_type": "stream",
     "text": [
      "                       Product  Quantity Ordered\n",
      "5       AAA Batteries (4-pack)             31017\n",
      "4        AA Batteries (4-pack)             27635\n",
      "15        USB-C Charging Cable             23975\n",
      "12    Lightning Charging Cable             23217\n",
      "17            Wired Headphones             20557\n",
      "6     Apple Airpods Headphones             15661\n",
      "7   Bose SoundSport Headphones             13457\n",
      "2             27in FHD Monitor              7550\n",
      "18                      iPhone              6849\n",
      "1       27in 4K Gaming Monitor              6244\n"
     ]
    }
   ],
   "source": [
    "#What are the top 5 best selling products?\n",
    "\n",
    "best_sellers = df.groupby('Product',as_index = False )['Quantity Ordered'].sum().sort_values(by = 'Quantity Ordered', ascending = False).head(10)\n",
    "print(best_sellers)\n"
   ]
  },
  {
   "cell_type": "code",
   "execution_count": 352,
   "id": "f6bf3d63",
   "metadata": {},
   "outputs": [
    {
     "data": {
      "image/png": "[encoded data removed]",
      "text/plain": [
       "<Figure size 640x480 with 1 Axes>"
      ]
     },
     "metadata": {},
     "output_type": "display_data"
    }
   ],
   "source": [
    "# Pie chart to visualize Top 10 best selling Product\n",
    "\n",
    "myexplode = [0.2, 0, 0, 0,0,0,0,0,0,0]\n",
    "\n",
    "df.groupby('Product').sum(True, 0).sort_values('Quantity Ordered', ascending=False).head(10).plot(\n",
    "   kind='pie', y='Quantity Ordered', title=\"Products by Quantity Ordered (%)\",legend=False, autopct='%1.0f%%',explode = myexplode,\n",
    "  shadow=True, startangle = 10, fontsize = 8)\n",
    "\n",
    "\n",
    "plt.show()"
   ]
  },
  {
   "cell_type": "markdown",
   "id": "0b7cbba6",
   "metadata": {},
   "source": [
    "### 8. Writing the results of the analysis to a new csv file\n",
    "In this section, the results of the data analysis by Product, month and city are written to a new csv file using the .to_csv method."
   ]
  },
  {
   "cell_type": "code",
   "execution_count": 191,
   "id": "e720ccd1",
   "metadata": {},
   "outputs": [],
   "source": [
    "# Write df to new csv file\n",
    "\n",
    "df.to_csv(\"sales_data_new.csv\", index = False)"
   ]
  }
 ],
 "metadata": {
  "kernelspec": {
   "display_name": "Python 3 (ipykernel)",
   "language": "python",
   "name": "python3"
  },
  "language_info": {
   "codemirror_mode": {
    "name": "ipython",
    "version": 3
   },
   "file_extension": ".py",
   "mimetype": "text/x-python",
   "name": "python",
   "nbconvert_exporter": "python",
   "pygments_lexer": "ipython3",
   "version": "3.10.9"
  }
 },
 "nbformat": 4,
 "nbformat_minor": 5
}
